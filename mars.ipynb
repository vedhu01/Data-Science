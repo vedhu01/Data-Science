{
  "cells": [
    {
      "cell_type": "markdown",
      "metadata": {
        "id": "view-in-github",
        "colab_type": "text"
      },
      "source": [
        "<a href=\"https://colab.research.google.com/github/vedhu01/Data-Science/blob/main/mars.ipynb\" target=\"_parent\"><img src=\"https://colab.research.google.com/assets/colab-badge.svg\" alt=\"Open In Colab\"/></a>"
      ]
    },
    {
      "cell_type": "code",
      "execution_count": null,
      "metadata": {
        "colab": {
          "base_uri": "https://localhost:8080/"
        },
        "id": "cRab9MdCkLj8",
        "outputId": "d4c986ea-daa4-4c43-bed7-8675474002e4"
      },
      "outputs": [
        {
          "output_type": "stream",
          "name": "stdout",
          "text": [
            "Looking in indexes: https://pypi.org/simple, https://us-python.pkg.dev/colab-wheels/public/simple/\n",
            "Collecting sklearn-contrib-py-earth\n",
            "  Using cached sklearn-contrib-py-earth-0.1.0.tar.gz (1.0 MB)\n",
            "Requirement already satisfied: scipy>=0.16 in /usr/local/lib/python3.8/dist-packages (from sklearn-contrib-py-earth) (1.7.3)\n",
            "Requirement already satisfied: scikit-learn>=0.16 in /usr/local/lib/python3.8/dist-packages (from sklearn-contrib-py-earth) (1.0.2)\n",
            "Requirement already satisfied: six in /usr/local/lib/python3.8/dist-packages (from sklearn-contrib-py-earth) (1.15.0)\n",
            "Requirement already satisfied: numpy>=1.14.6 in /usr/local/lib/python3.8/dist-packages (from scikit-learn>=0.16->sklearn-contrib-py-earth) (1.21.6)\n",
            "Requirement already satisfied: threadpoolctl>=2.0.0 in /usr/local/lib/python3.8/dist-packages (from scikit-learn>=0.16->sklearn-contrib-py-earth) (3.1.0)\n",
            "Requirement already satisfied: joblib>=0.11 in /usr/local/lib/python3.8/dist-packages (from scikit-learn>=0.16->sklearn-contrib-py-earth) (1.2.0)\n",
            "Building wheels for collected packages: sklearn-contrib-py-earth\n",
            "  Building wheel for sklearn-contrib-py-earth (setup.py) ... \u001b[?25lerror\n",
            "\u001b[31m  ERROR: Failed building wheel for sklearn-contrib-py-earth\u001b[0m\n",
            "\u001b[?25h  Running setup.py clean for sklearn-contrib-py-earth\n",
            "Failed to build sklearn-contrib-py-earth\n",
            "Installing collected packages: sklearn-contrib-py-earth\n",
            "    Running setup.py install for sklearn-contrib-py-earth ... \u001b[?25l\u001b[?25herror\n",
            "\u001b[31mERROR: Command errored out with exit status 1: /usr/bin/python3 -u -c 'import io, os, sys, setuptools, tokenize; sys.argv[0] = '\"'\"'/tmp/pip-install-5isgt83d/sklearn-contrib-py-earth_bab4b1644fc34fadad7392515aa17d40/setup.py'\"'\"'; __file__='\"'\"'/tmp/pip-install-5isgt83d/sklearn-contrib-py-earth_bab4b1644fc34fadad7392515aa17d40/setup.py'\"'\"';f = getattr(tokenize, '\"'\"'open'\"'\"', open)(__file__) if os.path.exists(__file__) else io.StringIO('\"'\"'from setuptools import setup; setup()'\"'\"');code = f.read().replace('\"'\"'\\r\\n'\"'\"', '\"'\"'\\n'\"'\"');f.close();exec(compile(code, __file__, '\"'\"'exec'\"'\"'))' install --record /tmp/pip-record-0h6hhkoi/install-record.txt --single-version-externally-managed --compile --install-headers /usr/local/include/python3.8/sklearn-contrib-py-earth Check the logs for full command output.\u001b[0m\n"
          ]
        }
      ],
      "source": [
        "!pip install sklearn-contrib-py-earth"
      ]
    },
    {
      "cell_type": "code",
      "source": [
        "pip install git+https://github.com/scikit-learn-contrib/py-earth@v0.2dev\n"
      ],
      "metadata": {
        "colab": {
          "base_uri": "https://localhost:8080/"
        },
        "id": "C6hKZdTIQWlu",
        "outputId": "96ee6350-fb56-4466-f5ec-6af8b3bbd148"
      },
      "execution_count": null,
      "outputs": [
        {
          "output_type": "stream",
          "name": "stdout",
          "text": [
            "Looking in indexes: https://pypi.org/simple, https://us-python.pkg.dev/colab-wheels/public/simple/\n",
            "Collecting git+https://github.com/scikit-learn-contrib/py-earth@v0.2dev\n",
            "  Cloning https://github.com/scikit-learn-contrib/py-earth (to revision v0.2dev) to /tmp/pip-req-build-ad6dsp10\n",
            "  Running command git clone -q https://github.com/scikit-learn-contrib/py-earth /tmp/pip-req-build-ad6dsp10\n",
            "  Running command git checkout -b v0.2dev --track origin/v0.2dev\n",
            "  Switched to a new branch 'v0.2dev'\n",
            "  Branch 'v0.2dev' set up to track remote branch 'v0.2dev' from 'origin'.\n",
            "Requirement already satisfied: scipy>=0.16 in /usr/local/lib/python3.8/dist-packages (from sklearn-contrib-py-earth==0.1.0+16.g400f84d) (1.7.3)\n",
            "Requirement already satisfied: scikit-learn>=0.16 in /usr/local/lib/python3.8/dist-packages (from sklearn-contrib-py-earth==0.1.0+16.g400f84d) (1.0.2)\n",
            "Requirement already satisfied: six in /usr/local/lib/python3.8/dist-packages (from sklearn-contrib-py-earth==0.1.0+16.g400f84d) (1.15.0)\n",
            "Requirement already satisfied: joblib>=0.11 in /usr/local/lib/python3.8/dist-packages (from scikit-learn>=0.16->sklearn-contrib-py-earth==0.1.0+16.g400f84d) (1.2.0)\n",
            "Requirement already satisfied: threadpoolctl>=2.0.0 in /usr/local/lib/python3.8/dist-packages (from scikit-learn>=0.16->sklearn-contrib-py-earth==0.1.0+16.g400f84d) (3.1.0)\n",
            "Requirement already satisfied: numpy>=1.14.6 in /usr/local/lib/python3.8/dist-packages (from scikit-learn>=0.16->sklearn-contrib-py-earth==0.1.0+16.g400f84d) (1.21.6)\n",
            "Building wheels for collected packages: sklearn-contrib-py-earth\n",
            "  Building wheel for sklearn-contrib-py-earth (setup.py) ... \u001b[?25l\u001b[?25hdone\n",
            "  Created wheel for sklearn-contrib-py-earth: filename=sklearn_contrib_py_earth-0.1.0+16.g400f84d-cp38-cp38-linux_x86_64.whl size=4476328 sha256=388a7ef1289e6c6dc90feea32a29356f473d860ebbb9a929de0b5605cd35ff95\n",
            "  Stored in directory: /tmp/pip-ephem-wheel-cache-7e_ddp7i/wheels/8a/33/e4/b577aeaf3435222ffd76339bd728390afc103237af5cc8064e\n",
            "Successfully built sklearn-contrib-py-earth\n",
            "Installing collected packages: sklearn-contrib-py-earth\n",
            "Successfully installed sklearn-contrib-py-earth-0.1.0+16.g400f84d\n"
          ]
        }
      ]
    },
    {
      "cell_type": "code",
      "source": [
        "import numpy as np\n",
        "import pandas as pd\n",
        "import warnings\n",
        "from pyearth import Earth\n",
        "from sklearn.linear_model import LinearRegression\n",
        "from sklearn.metrics import r2_score, mean_squared_error\n"
      ],
      "metadata": {
        "id": "VQhD8ti2P5_k"
      },
      "execution_count": null,
      "outputs": []
    },
    {
      "cell_type": "code",
      "source": [
        "warnings.filterwarnings(\"ignore\")"
      ],
      "metadata": {
        "id": "LeIhrm91Q52g"
      },
      "execution_count": null,
      "outputs": []
    },
    {
      "cell_type": "code",
      "source": [
        "df=pd.read_csv(\"/content/Predictions1.csv\")\n",
        "df.head(5)"
      ],
      "metadata": {
        "colab": {
          "base_uri": "https://localhost:8080/",
          "height": 206
        },
        "id": "R195XIsYQ6DH",
        "outputId": "892b916f-59af-4449-f9ea-cff572142dd3"
      },
      "execution_count": null,
      "outputs": [
        {
          "output_type": "execute_result",
          "data": {
            "text/plain": [
              "     Id      SalePrice\n",
              "0  1461  123573.086419\n",
              "1  1462  161697.462206\n",
              "2  1463  184121.434237\n",
              "3  1464  195916.082039\n",
              "4  1465  194245.278547"
            ],
            "text/html": [
              "\n",
              "  <div id=\"df-f986780f-4489-4837-9629-6b0fcf1dde54\">\n",
              "    <div class=\"colab-df-container\">\n",
              "      <div>\n",
              "<style scoped>\n",
              "    .dataframe tbody tr th:only-of-type {\n",
              "        vertical-align: middle;\n",
              "    }\n",
              "\n",
              "    .dataframe tbody tr th {\n",
              "        vertical-align: top;\n",
              "    }\n",
              "\n",
              "    .dataframe thead th {\n",
              "        text-align: right;\n",
              "    }\n",
              "</style>\n",
              "<table border=\"1\" class=\"dataframe\">\n",
              "  <thead>\n",
              "    <tr style=\"text-align: right;\">\n",
              "      <th></th>\n",
              "      <th>Id</th>\n",
              "      <th>SalePrice</th>\n",
              "    </tr>\n",
              "  </thead>\n",
              "  <tbody>\n",
              "    <tr>\n",
              "      <th>0</th>\n",
              "      <td>1461</td>\n",
              "      <td>123573.086419</td>\n",
              "    </tr>\n",
              "    <tr>\n",
              "      <th>1</th>\n",
              "      <td>1462</td>\n",
              "      <td>161697.462206</td>\n",
              "    </tr>\n",
              "    <tr>\n",
              "      <th>2</th>\n",
              "      <td>1463</td>\n",
              "      <td>184121.434237</td>\n",
              "    </tr>\n",
              "    <tr>\n",
              "      <th>3</th>\n",
              "      <td>1464</td>\n",
              "      <td>195916.082039</td>\n",
              "    </tr>\n",
              "    <tr>\n",
              "      <th>4</th>\n",
              "      <td>1465</td>\n",
              "      <td>194245.278547</td>\n",
              "    </tr>\n",
              "  </tbody>\n",
              "</table>\n",
              "</div>\n",
              "      <button class=\"colab-df-convert\" onclick=\"convertToInteractive('df-f986780f-4489-4837-9629-6b0fcf1dde54')\"\n",
              "              title=\"Convert this dataframe to an interactive table.\"\n",
              "              style=\"display:none;\">\n",
              "        \n",
              "  <svg xmlns=\"http://www.w3.org/2000/svg\" height=\"24px\"viewBox=\"0 0 24 24\"\n",
              "       width=\"24px\">\n",
              "    <path d=\"M0 0h24v24H0V0z\" fill=\"none\"/>\n",
              "    <path d=\"M18.56 5.44l.94 2.06.94-2.06 2.06-.94-2.06-.94-.94-2.06-.94 2.06-2.06.94zm-11 1L8.5 8.5l.94-2.06 2.06-.94-2.06-.94L8.5 2.5l-.94 2.06-2.06.94zm10 10l.94 2.06.94-2.06 2.06-.94-2.06-.94-.94-2.06-.94 2.06-2.06.94z\"/><path d=\"M17.41 7.96l-1.37-1.37c-.4-.4-.92-.59-1.43-.59-.52 0-1.04.2-1.43.59L10.3 9.45l-7.72 7.72c-.78.78-.78 2.05 0 2.83L4 21.41c.39.39.9.59 1.41.59.51 0 1.02-.2 1.41-.59l7.78-7.78 2.81-2.81c.8-.78.8-2.07 0-2.86zM5.41 20L4 18.59l7.72-7.72 1.47 1.35L5.41 20z\"/>\n",
              "  </svg>\n",
              "      </button>\n",
              "      \n",
              "  <style>\n",
              "    .colab-df-container {\n",
              "      display:flex;\n",
              "      flex-wrap:wrap;\n",
              "      gap: 12px;\n",
              "    }\n",
              "\n",
              "    .colab-df-convert {\n",
              "      background-color: #E8F0FE;\n",
              "      border: none;\n",
              "      border-radius: 50%;\n",
              "      cursor: pointer;\n",
              "      display: none;\n",
              "      fill: #1967D2;\n",
              "      height: 32px;\n",
              "      padding: 0 0 0 0;\n",
              "      width: 32px;\n",
              "    }\n",
              "\n",
              "    .colab-df-convert:hover {\n",
              "      background-color: #E2EBFA;\n",
              "      box-shadow: 0px 1px 2px rgba(60, 64, 67, 0.3), 0px 1px 3px 1px rgba(60, 64, 67, 0.15);\n",
              "      fill: #174EA6;\n",
              "    }\n",
              "\n",
              "    [theme=dark] .colab-df-convert {\n",
              "      background-color: #3B4455;\n",
              "      fill: #D2E3FC;\n",
              "    }\n",
              "\n",
              "    [theme=dark] .colab-df-convert:hover {\n",
              "      background-color: #434B5C;\n",
              "      box-shadow: 0px 1px 3px 1px rgba(0, 0, 0, 0.15);\n",
              "      filter: drop-shadow(0px 1px 2px rgba(0, 0, 0, 0.3));\n",
              "      fill: #FFFFFF;\n",
              "    }\n",
              "  </style>\n",
              "\n",
              "      <script>\n",
              "        const buttonEl =\n",
              "          document.querySelector('#df-f986780f-4489-4837-9629-6b0fcf1dde54 button.colab-df-convert');\n",
              "        buttonEl.style.display =\n",
              "          google.colab.kernel.accessAllowed ? 'block' : 'none';\n",
              "\n",
              "        async function convertToInteractive(key) {\n",
              "          const element = document.querySelector('#df-f986780f-4489-4837-9629-6b0fcf1dde54');\n",
              "          const dataTable =\n",
              "            await google.colab.kernel.invokeFunction('convertToInteractive',\n",
              "                                                     [key], {});\n",
              "          if (!dataTable) return;\n",
              "\n",
              "          const docLinkHtml = 'Like what you see? Visit the ' +\n",
              "            '<a target=\"_blank\" href=https://colab.research.google.com/notebooks/data_table.ipynb>data table notebook</a>'\n",
              "            + ' to learn more about interactive tables.';\n",
              "          element.innerHTML = '';\n",
              "          dataTable['output_type'] = 'display_data';\n",
              "          await google.colab.output.renderOutput(dataTable, element);\n",
              "          const docLink = document.createElement('div');\n",
              "          docLink.innerHTML = docLinkHtml;\n",
              "          element.appendChild(docLink);\n",
              "        }\n",
              "      </script>\n",
              "    </div>\n",
              "  </div>\n",
              "  "
            ]
          },
          "metadata": {},
          "execution_count": 7
        }
      ]
    },
    {
      "cell_type": "code",
      "source": [
        "target_col=\"SalePrice\"\n",
        "x= df.loc[:, df.columns!=target_col]\n",
        "y= df.loc[:, target_col]"
      ],
      "metadata": {
        "id": "P19G9-QxQ6GG"
      },
      "execution_count": null,
      "outputs": []
    },
    {
      "cell_type": "markdown",
      "source": [
        "Linear regression"
      ],
      "metadata": {
        "id": "etsDEceWTSl9"
      }
    },
    {
      "cell_type": "code",
      "source": [
        "lr= LinearRegression()\n",
        "lr_model_fitted=lr.fit(x,y)"
      ],
      "metadata": {
        "id": "QP_WwEqsQ6JF"
      },
      "execution_count": null,
      "outputs": []
    },
    {
      "cell_type": "code",
      "source": [
        "from functools import lru_cache\n",
        "print(\"intercept:\", lr_model_fitted.intercept_)\n",
        "print(\"slope:\", lr_model_fitted.coef_)"
      ],
      "metadata": {
        "colab": {
          "base_uri": "https://localhost:8080/"
        },
        "id": "V1FCx6O4Q6L3",
        "outputId": "032ab761-db2c-499f-a525-cdb796a2e5be"
      },
      "execution_count": null,
      "outputs": [
        {
          "output_type": "stream",
          "name": "stdout",
          "text": [
            "intercept: 201353.23240243542\n",
            "slope: [-10.44960557]\n"
          ]
        }
      ]
    },
    {
      "cell_type": "code",
      "source": [
        "y_pred=lr_model_fitted.predict(x)\n",
        "y_pred"
      ],
      "metadata": {
        "colab": {
          "base_uri": "https://localhost:8080/"
        },
        "id": "x_Fkl8shUkI0",
        "outputId": "94308b0a-6a0e-4d9d-d5cf-32d1e8a7dc54"
      },
      "execution_count": null,
      "outputs": [
        {
          "output_type": "execute_result",
          "data": {
            "text/plain": [
              "array([186086.35865905, 186075.90905347, 186065.4594479 , ...,\n",
              "       170871.73294353, 170861.28333795, 170850.83373238])"
            ]
          },
          "metadata": {},
          "execution_count": 20
        }
      ]
    },
    {
      "cell_type": "code",
      "source": [
        "r2_score(y,y_pred)"
      ],
      "metadata": {
        "colab": {
          "base_uri": "https://localhost:8080/"
        },
        "id": "DU4YjBSRQ6Oq",
        "outputId": "d1460d20-9349-47e3-96d9-573fc76618e0"
      },
      "execution_count": null,
      "outputs": [
        {
          "output_type": "execute_result",
          "data": {
            "text/plain": [
              "0.0033158667923426366"
            ]
          },
          "metadata": {},
          "execution_count": 19
        }
      ]
    },
    {
      "cell_type": "code",
      "source": [
        "mean_squared_error(y,y_pred)"
      ],
      "metadata": {
        "colab": {
          "base_uri": "https://localhost:8080/"
        },
        "id": "hssMEUmYQ6Rr",
        "outputId": "e9b705ee-6b11-43cf-d7ed-89c7156c3609"
      },
      "execution_count": null,
      "outputs": [
        {
          "output_type": "execute_result",
          "data": {
            "text/plain": [
              "5822230553.393295"
            ]
          },
          "metadata": {},
          "execution_count": 21
        }
      ]
    },
    {
      "cell_type": "markdown",
      "source": [
        "Mars model"
      ],
      "metadata": {
        "id": "xGbMI-4nVykv"
      }
    },
    {
      "cell_type": "code",
      "source": [
        "marsmodel= Earth(max_terms=500, max_degree=1)\n",
        "mars_model_fitted= marsmodel.fit(x,y)\n"
      ],
      "metadata": {
        "id": "esuK7ALmQ6VF"
      },
      "execution_count": null,
      "outputs": []
    },
    {
      "cell_type": "code",
      "source": [
        "y_pred_mars= mars_model_fitted.predict(x)"
      ],
      "metadata": {
        "id": "iHjZ32Hhymk0"
      },
      "execution_count": null,
      "outputs": []
    },
    {
      "cell_type": "code",
      "source": [
        "r2_score(y,y_pred_mars)"
      ],
      "metadata": {
        "colab": {
          "base_uri": "https://localhost:8080/"
        },
        "id": "aYk7gnevympi",
        "outputId": "6ff49689-9bdb-473b-9c06-f78ed8c3c52d"
      },
      "execution_count": null,
      "outputs": [
        {
          "output_type": "execute_result",
          "data": {
            "text/plain": [
              "0.45350612247539557"
            ]
          },
          "metadata": {},
          "execution_count": 14
        }
      ]
    },
    {
      "cell_type": "code",
      "source": [
        "mean_squared_error(y,y_pred_mars)"
      ],
      "metadata": {
        "colab": {
          "base_uri": "https://localhost:8080/"
        },
        "id": "VYD4OADFy8hl",
        "outputId": "98ff9ccd-1e3e-4b07-fb21-4a9ae882752a"
      },
      "execution_count": null,
      "outputs": [
        {
          "output_type": "execute_result",
          "data": {
            "text/plain": [
              "3192398920.534637"
            ]
          },
          "metadata": {},
          "execution_count": 15
        }
      ]
    },
    {
      "cell_type": "code",
      "source": [
        "print(mars_model_fitted.summary())"
      ],
      "metadata": {
        "colab": {
          "base_uri": "https://localhost:8080/"
        },
        "id": "rzf9E-ZBy9JK",
        "outputId": "213daaea-d256-4918-b068-be2a6e359f48"
      },
      "execution_count": null,
      "outputs": [
        {
          "output_type": "stream",
          "name": "stdout",
          "text": [
            "Earth Model\n",
            "--------------------------------------\n",
            "Basis Function  Pruned  Coefficient   \n",
            "--------------------------------------\n",
            "(Intercept)     No      -3.23246e+07  \n",
            "h(Id-2672)      Yes     None          \n",
            "h(2672-Id)      No      -3178.54      \n",
            "h(Id-2558)      Yes     None          \n",
            "h(2558-Id)      No      14960.1       \n",
            "h(Id-2732)      No      1719.11       \n",
            "h(2732-Id)      Yes     None          \n",
            "h(Id-2330)      Yes     None          \n",
            "h(2330-Id)      No      -14521.6      \n",
            "h(Id-2198)      No      6174.96       \n",
            "h(2198-Id)      Yes     None          \n",
            "h(Id-2408)      No      1569.72       \n",
            "h(2408-Id)      Yes     None          \n",
            "h(Id-1982)      Yes     None          \n",
            "h(1982-Id)      No      16529.7       \n",
            "h(Id-1838)      Yes     None          \n",
            "h(1838-Id)      Yes     None          \n",
            "h(Id-2084)      No      990.451       \n",
            "h(2084-Id)      Yes     None          \n",
            "h(Id-1700)      No      -7165.34      \n",
            "h(1700-Id)      Yes     None          \n",
            "h(Id-1544)      Yes     None          \n",
            "h(1544-Id)      No      1712.77       \n",
            "h(Id-1784)      Yes     None          \n",
            "h(1784-Id)      No      1473.44       \n",
            "h(Id-2174)      Yes     None          \n",
            "h(2174-Id)      Yes     None          \n",
            "h(Id-2294)      No      -48456.2      \n",
            "h(2294-Id)      Yes     None          \n",
            "h(Id-2324)      No      13336.6       \n",
            "h(2324-Id)      Yes     None          \n",
            "h(Id-2282)      Yes     None          \n",
            "h(2282-Id)      No      38421.3       \n",
            "h(Id-2306)      No      20299.3       \n",
            "h(2306-Id)      Yes     None          \n",
            "h(Id-2270)      Yes     None          \n",
            "h(2270-Id)      Yes     None          \n",
            "h(Id-2534)      Yes     None          \n",
            "h(2534-Id)      No      -5591.96      \n",
            "h(Id-2138)      No      5638.61       \n",
            "h(2138-Id)      Yes     None          \n",
            "h(Id-2846)      No      -5822.43      \n",
            "h(2846-Id)      Yes     None          \n",
            "h(Id-2792)      Yes     None          \n",
            "h(2792-Id)      No      2295.88       \n",
            "h(Id-2870)      Yes     None          \n",
            "h(2870-Id)      No      4732.32       \n",
            "h(Id-2900)      No      -32040.2      \n",
            "h(2900-Id)      Yes     None          \n",
            "h(Id-2162)      No      -8974.95      \n",
            "h(2162-Id)      Yes     None          \n",
            "h(Id-2252)      No      -47972.8      \n",
            "h(2252-Id)      No      70805.1       \n",
            "h(Id-2234)      Yes     None          \n",
            "h(2234-Id)      No      -8743.31      \n",
            "h(Id-2264)      Yes     None          \n",
            "h(2264-Id)      No      -27496.4      \n",
            "h(Id-1862)      Yes     None          \n",
            "h(1862-Id)      No      -25471.6      \n",
            "h(Id-1898)      Yes     None          \n",
            "h(1898-Id)      No      4263.86       \n",
            "h(Id-1856)      Yes     None          \n",
            "h(1856-Id)      No      22528         \n",
            "h(Id-1976)      Yes     None          \n",
            "h(1976-Id)      Yes     None          \n",
            "h(Id-1964)      No      92522.8       \n",
            "h(1964-Id)      Yes     None          \n",
            "h(Id-1970)      Yes     None          \n",
            "h(1970-Id)      No      -82795        \n",
            "h(Id-1958)      Yes     None          \n",
            "h(1958-Id)      No      -28751.1      \n",
            "h(Id-1676)      Yes     None          \n",
            "h(1676-Id)      Yes     None          \n",
            "h(Id-1652)      Yes     None          \n",
            "h(1652-Id)      Yes     None          \n",
            "h(Id-1664)      Yes     None          \n",
            "h(1664-Id)      No      -58869.8      \n",
            "h(Id-1646)      No      -6987.32      \n",
            "h(1646-Id)      Yes     None          \n",
            "h(Id-1688)      Yes     None          \n",
            "h(1688-Id)      No      15322.2       \n",
            "h(Id-1658)      Yes     None          \n",
            "h(1658-Id)      No      55625.4       \n",
            "h(Id-2912)      No      26203.8       \n",
            "h(2912-Id)      Yes     None          \n",
            "h(Id-2894)      Yes     None          \n",
            "h(2894-Id)      No      17163.3       \n",
            "h(Id-2462)      No      1103.95       \n",
            "h(2462-Id)      Yes     None          \n",
            "h(Id-2564)      Yes     None          \n",
            "h(2564-Id)      No      -9298.63      \n",
            "Id              Yes     None          \n",
            "--------------------------------------\n",
            "MSE: 3192398920.5344, GCV: 3684921149.4000, RSQ: 0.4535, GRSQ: 0.3701\n"
          ]
        }
      ]
    },
    {
      "cell_type": "code",
      "source": [],
      "metadata": {
        "id": "tPjEmubyGd85"
      },
      "execution_count": null,
      "outputs": []
    },
    {
      "cell_type": "code",
      "source": [],
      "metadata": {
        "id": "zJvY0wilGeA-"
      },
      "execution_count": null,
      "outputs": []
    },
    {
      "cell_type": "code",
      "source": [],
      "metadata": {
        "id": "o-tafqkVGeFS"
      },
      "execution_count": null,
      "outputs": []
    },
    {
      "cell_type": "code",
      "source": [],
      "metadata": {
        "id": "6dz-G-uxGeJ9"
      },
      "execution_count": null,
      "outputs": []
    },
    {
      "cell_type": "code",
      "source": [],
      "metadata": {
        "id": "mEusw6tdGePP"
      },
      "execution_count": null,
      "outputs": []
    }
  ],
  "metadata": {
    "colab": {
      "provenance": [],
      "authorship_tag": "ABX9TyNQGWxVOMPMVWeLfitoN1Kx",
      "include_colab_link": true
    },
    "kernelspec": {
      "display_name": "Python 3",
      "name": "python3"
    },
    "language_info": {
      "name": "python"
    }
  },
  "nbformat": 4,
  "nbformat_minor": 0
}